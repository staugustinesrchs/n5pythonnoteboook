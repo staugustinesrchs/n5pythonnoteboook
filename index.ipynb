{
 "cells": [
  {
   "cell_type": "markdown",
   "metadata": {},
   "source": [
    "# N4/5 Computing Science - Introduction to Python\n",
    "\n",
    "These interactive Python notebooks cover a brief introduction to Python.\n",
    "\n",
    "## Notebooks\n",
    "\n",
    "1. [Assignments](N45-Computing-Introduction-to-Python.ipynb)\n",
    "2. [Variables](N45-Computing-Python-Variables.ipynb)\n",
    "3. [Loops](N45-Computing-Loops.ipynb)\n",
    "4. [Selection](N45-Computing-Selection.ipynb)\n",
    "5. [Pre-defined Functions](N45-Computing-Pre-defined-Functions.ipynb)\n",
    "\n",
    "\n",
    "__Note__: the examples in these notebooks are not always written in the most efficient way. They are written to be clear and to illustrate how certain concepts work in general programming."
   ]
  },
  {
   "cell_type": "markdown",
   "metadata": {},
   "source": [
    "## Using the Notebook\n",
    "\n",
    "Read the notebook. Where you see code, you can run the code by clicking on the __Run__ button in the top toolbar."
   ]
  }
 ],
 "metadata": {
  "kernelspec": {
   "display_name": "Python 3",
   "language": "python",
   "name": "python3"
  },
  "language_info": {
   "codemirror_mode": {
    "name": "ipython",
    "version": 3
   },
   "file_extension": ".py",
   "mimetype": "text/x-python",
   "name": "python",
   "nbconvert_exporter": "python",
   "pygments_lexer": "ipython3",
   "version": "3.8.5"
  }
 },
 "nbformat": 4,
 "nbformat_minor": 2
}
