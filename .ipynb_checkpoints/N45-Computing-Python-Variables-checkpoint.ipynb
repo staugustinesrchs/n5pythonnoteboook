{
 "cells": [
  {
   "cell_type": "markdown",
   "metadata": {},
   "source": [
    "The standard variable types in Python follow on from what you learned at National 5.\n",
    "\n",
    "+ Characters\n",
    "+ Strings\n",
    "+ Integers (written as __int__ in Python)\n",
    "+ Reals (written as __float__ in Python)\n",
    "+ Booleans\n",
    "\n",
    "We also need to know about arrays in Python. The commonly used term for an array in Python is a list. We'll learn more about other data structures later in the course."
   ]
  },
  {
   "cell_type": "code",
   "execution_count": null,
   "metadata": {},
   "outputs": [],
   "source": [
    "# Assign a single character to a variable\n",
    "single_char = 'g'\n",
    "\n",
    "# Assign a string to a variable\n",
    "pupil_first_name = 'Amanda'\n",
    "\n",
    "# Assign an integer to a variable\n",
    "test_score = 72\n",
    "\n",
    "# Assign a real to a varible\n",
    "average_score = 67.4\n",
    "\n",
    "# Assign a boolean true value to a variable\n",
    "has_passed = True"
   ]
  },
  {
   "cell_type": "markdown",
   "metadata": {},
   "source": [
    "A note about booleans. In Python, __True__ and __False__ are case sensitive. 'True' is different to 'true' and the second one won't assign the boolean value (it will be treated as a variable and most likely cause an error when your program runs)."
   ]
  },
  {
   "cell_type": "markdown",
   "metadata": {},
   "source": [
    "## Getting User Input and Casting Variable types\n",
    "\n",
    "Variables sometimes have to be changed from one type to another. The easiest place to see this is when getting user input.\n",
    "\n",
    "To get user input we use the Python __input__ function."
   ]
  },
  {
   "cell_type": "code",
   "execution_count": null,
   "metadata": {},
   "outputs": [],
   "source": [
    "persons_name = input(\"Please enter your name: \")\n",
    "print(\"Hello\", persons_name)"
   ]
  },
  {
   "cell_type": "markdown",
   "metadata": {},
   "source": [
    "Run the above code to get see the output. This works fine when the input is a string but doesn't work so well when the input is an integer. Look at the code below - it asks for a test score out of 50 and then calculates the percentage before printing it. However, if you run the code below you should see that it produces an error."
   ]
  },
  {
   "cell_type": "code",
   "execution_count": null,
   "metadata": {},
   "outputs": [],
   "source": [
    "test_score = input(\"Please enter a test score out of 50\")\n",
    "test_percentage = (test_score/50)*100\n",
    "print(\"You achieved a percentage of\", test_percentage)"
   ]
  },
  {
   "cell_type": "markdown",
   "metadata": {},
   "source": [
    "The reason for the error is because the __input__ function returns a string. The string is then divided by 50 - __but you can't divide words by numbers!__.\n",
    "\n",
    "The solution is to __cast__ the variable from a string to an int. Using the __int__ function. There are three casting functions that we will need to know:\n",
    "\n",
    "+ int()\n",
    "+ float()\n",
    "+ str()\n",
    "\n",
    "If we rewrite the code above so that it casts the string returned from __input__ to an __int__ then it looks like this. __Pay attention__ to the way that the __input() function__ is enclosed in the __int function__ - look at the __brackets__."
   ]
  },
  {
   "cell_type": "code",
   "execution_count": null,
   "metadata": {},
   "outputs": [],
   "source": [
    "test_score = int(input(\"Please enter a test score out of 50\"))\n",
    "test_percentage = (test_score/50)*100\n",
    "print(\"You achieved a percentage of\", test_percentage)"
   ]
  },
  {
   "cell_type": "markdown",
   "metadata": {},
   "source": [
    "Although we will mostly use this to cast the value returned from __input()__, it can be helpful to convert floating point numbers to int. Run the examples below and look carefully at the results to see how integers are cast from real numbers."
   ]
  },
  {
   "cell_type": "code",
   "execution_count": null,
   "metadata": {},
   "outputs": [],
   "source": [
    "real_number1 = 12.2\n",
    "real_number2 = 14.9\n",
    "integer_number1 = int(real_number1)\n",
    "integer_number2 = int(real_number2)\n",
    "print(\"Integer number 1 is\", integer_number1)\n",
    "print(\"Integer number 2 is\", integer_number2)"
   ]
  },
  {
   "cell_type": "markdown",
   "metadata": {},
   "source": [
    "There is also a much more efficient way of writing the above code:"
   ]
  },
  {
   "cell_type": "code",
   "execution_count": null,
   "metadata": {},
   "outputs": [],
   "source": [
    "print(\"Integer number 1 is\", int(12.2))\n",
    "print(\"Integer number 2 is\", int(14.9))"
   ]
  },
  {
   "cell_type": "markdown",
   "metadata": {},
   "source": [
    "__Note__ that casting a real number to an int is not the same as rounding. When using int() all of the values to the right of the decimal point are just dropped."
   ]
  },
  {
   "cell_type": "markdown",
   "metadata": {},
   "source": [
    "## Arrays/Lists\n",
    "\n",
    "In Python, there is a difference between arrays and lists, but __for the purposes of National 5 we should think of them as being the same__.\n",
    "\n",
    "To create arrays we can do this:"
   ]
  },
  {
   "cell_type": "code",
   "execution_count": null,
   "metadata": {},
   "outputs": [],
   "source": [
    "# Create an empty list\n",
    "fruits = []\n",
    "\n",
    "# To create a list with items in it\n",
    "fruits = [\"Apple\", \"Banana\", \"Grape\", \"Melon\"]"
   ]
  },
  {
   "cell_type": "markdown",
   "metadata": {},
   "source": [
    "To add an item to a list we use the append function"
   ]
  },
  {
   "cell_type": "code",
   "execution_count": null,
   "metadata": {},
   "outputs": [],
   "source": [
    "fruits = [\"Apple\", \"Banana\", \"Grape\", \"Melon\"]\n",
    "fruits.append(\"Pear\")\n",
    "print(fruits)"
   ]
  },
  {
   "cell_type": "markdown",
   "metadata": {},
   "source": [
    "To continually add items to an array we can do this:"
   ]
  },
  {
   "cell_type": "code",
   "execution_count": null,
   "metadata": {},
   "outputs": [],
   "source": [
    "# Create an empty list\n",
    "favourite_fruits = []\n",
    "\n",
    "# Now ask the user to enter three of their favourite fruits\n",
    "for loop in range(3):\n",
    "    favourite_fruit = input(\"Please enter your favourite fruit (\" + str(loop+1) + \" of 3)\")\n",
    "    favourite_fruits.append(favourite_fruit)\n",
    "print(favourite_fruits)"
   ]
  },
  {
   "cell_type": "code",
   "execution_count": null,
   "metadata": {},
   "outputs": [],
   "source": []
  }
 ],
 "metadata": {
  "kernelspec": {
   "display_name": "Python 3",
   "language": "python",
   "name": "python3"
  },
  "language_info": {
   "codemirror_mode": {
    "name": "ipython",
    "version": 3
   },
   "file_extension": ".py",
   "mimetype": "text/x-python",
   "name": "python",
   "nbconvert_exporter": "python",
   "pygments_lexer": "ipython3",
   "version": "3.8.5"
  }
 },
 "nbformat": 4,
 "nbformat_minor": 2
}
