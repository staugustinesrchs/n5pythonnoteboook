{
 "cells": [
  {
   "cell_type": "markdown",
   "metadata": {},
   "source": [
    "# Loops"
   ]
  },
  {
   "cell_type": "markdown",
   "metadata": {},
   "source": [
    "## Fixed Loops\n",
    "\n",
    "The for loop is the main to do fixed loops in Pyton. For simple loops we use the range function to control how many times we loop."
   ]
  },
  {
   "cell_type": "code",
   "execution_count": null,
   "metadata": {},
   "outputs": [],
   "source": [
    "for loop in range(10):\n",
    "    print(\"Hello\")"
   ]
  },
  {
   "cell_type": "markdown",
   "metadata": {},
   "source": [
    "An important difference between this and loops in LiveCode is that by default loops starts counting from 0. Look at the output of the loop below."
   ]
  },
  {
   "cell_type": "code",
   "execution_count": null,
   "metadata": {},
   "outputs": [],
   "source": [
    "for loop in range(5):\n",
    "    print(loop)"
   ]
  },
  {
   "cell_type": "markdown",
   "metadata": {},
   "source": [
    "We can tell Python to start the loop from 1:"
   ]
  },
  {
   "cell_type": "code",
   "execution_count": null,
   "metadata": {},
   "outputs": [],
   "source": [
    "for loop in range(1,5):\n",
    "    print(loop)"
   ]
  },
  {
   "cell_type": "markdown",
   "metadata": {},
   "source": [
    "Notice that the loop still stops at 4. The loop will always stop at the upper limit - 1. If you really want the loop to go from 1 to 5 (inclusive) then you need to write:"
   ]
  },
  {
   "cell_type": "code",
   "execution_count": null,
   "metadata": {},
   "outputs": [],
   "source": [
    "for loop in range(1,6):\n",
    "    print(loop)"
   ]
  },
  {
   "cell_type": "markdown",
   "metadata": {},
   "source": [
    "### For Each loop\n",
    "There is a different version of a For loop which doesn't use a counter going from the bottom of a range to the upper limits of a range. Instead, the loop variable takes on a value from an array.\n",
    "\n",
    "This is best seen using an example. In the loop below, the loop variable 'fruit' will be EACH value in the array. When the end of the array is reached the loop is finished."
   ]
  },
  {
   "cell_type": "code",
   "execution_count": 1,
   "metadata": {},
   "outputs": [
    {
     "name": "stdout",
     "output_type": "stream",
     "text": [
      "Apple\n",
      "Pear\n",
      "Banana\n",
      "Plum\n"
     ]
    }
   ],
   "source": [
    "fruits = [\"Apple\", \"Pear\", \"Banana\", \"Plum\"]\n",
    "\n",
    "for fruit in fruits:\n",
    "    print(fruit)"
   ]
  },
  {
   "cell_type": "markdown",
   "metadata": {},
   "source": [
    "The alternative version of this loop that we are more familiar with is:"
   ]
  },
  {
   "cell_type": "code",
   "execution_count": 2,
   "metadata": {},
   "outputs": [
    {
     "name": "stdout",
     "output_type": "stream",
     "text": [
      "Apple\n",
      "Pear\n",
      "Banana\n",
      "Plum\n"
     ]
    }
   ],
   "source": [
    "fruits = [\"Apple\", \"Pear\", \"Banana\", \"Plum\"]\n",
    "\n",
    "for loop in range(len(fruits)):\n",
    "    print(fruits[loop])"
   ]
  },
  {
   "cell_type": "markdown",
   "metadata": {},
   "source": [
    "Which one should you use? The __For Each__ loop works when we need to loop through an array but don't need to know where we are in the array. The other loop is needed when we have to be aware of the position we are in through the loop."
   ]
  },
  {
   "cell_type": "markdown",
   "metadata": {},
   "source": [
    "## Conditional Loops\n",
    "\n",
    "The while loop is used for conditional loops. Look at the code below which asks for someone's password and then keeps asking them until they enter the word 'school"
   ]
  },
  {
   "cell_type": "code",
   "execution_count": null,
   "metadata": {},
   "outputs": [],
   "source": [
    "password = input(\"Please enter the password: \")\n",
    "while password != \"school\":\n",
    "    password = input(\"Sorry. Please try again\")\n",
    "print(\"Password entered correctly\")"
   ]
  },
  {
   "cell_type": "markdown",
   "metadata": {},
   "source": [
    "You can include complex conditions on the loop using and/or."
   ]
  },
  {
   "cell_type": "code",
   "execution_count": null,
   "metadata": {},
   "outputs": [],
   "source": [
    "attempts = 1\n",
    "password = input(\"Please enter the password: \")\n",
    "while password != \"school\" and attempts < 3:\n",
    "    password = input(\"Sorry. Please try again\")\n",
    "    attempts = attempts + 1\n",
    "if password == \"school\":\n",
    "    print(\"Password entered correctly\")\n",
    "else:\n",
    "    print(\"Too many attempts\")"
   ]
  },
  {
   "cell_type": "markdown",
   "metadata": {},
   "source": [
    "# Selection\n",
    "\n",
    "To perform a selection in Python we use the If statement.\n",
    "\n",
    "To check if the air temperature is over 20 degrees we might do:"
   ]
  },
  {
   "cell_type": "code",
   "execution_count": null,
   "metadata": {},
   "outputs": [],
   "source": [
    "temperature = int(input('Please enter a temperature between 0 and 30'))\n",
    "if temperature >= 20:\n",
    "    print(\"The air temperature is warm\")"
   ]
  },
  {
   "cell_type": "markdown",
   "metadata": {},
   "source": [
    "To also add in an else condition we can do:"
   ]
  },
  {
   "cell_type": "code",
   "execution_count": null,
   "metadata": {},
   "outputs": [],
   "source": [
    "temperature = int(input('Please enter a temperature between 0 and 30'))\n",
    "if temperature >= 20:\n",
    "    print(\"The air temperature is warm\")\n",
    "else:\n",
    "    print(\"The air temperture is cool\")"
   ]
  }
 ],
 "metadata": {
  "kernelspec": {
   "display_name": "Python 3",
   "language": "python",
   "name": "python3"
  },
  "language_info": {
   "codemirror_mode": {
    "name": "ipython",
    "version": 3
   },
   "file_extension": ".py",
   "mimetype": "text/x-python",
   "name": "python",
   "nbconvert_exporter": "python",
   "pygments_lexer": "ipython3",
   "version": "3.7.2"
  }
 },
 "nbformat": 4,
 "nbformat_minor": 2
}
