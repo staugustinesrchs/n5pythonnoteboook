{
 "cells": [
  {
   "cell_type": "markdown",
   "metadata": {},
   "source": [
    "# Selection\n",
    "\n",
    "To perform a selection in Python we use the __if__ statement.\n",
    "\n",
    "To check if the air temperature is over 20 degrees we might do:\n",
    "\n",
    "### Code example 1"
   ]
  },
  {
   "cell_type": "code",
   "execution_count": null,
   "metadata": {},
   "outputs": [],
   "source": [
    "temperature = int(input('Please enter a temperature between 0 and 30'))\n",
    "\n",
    "if temperature >= 20:\n",
    "    print(\"The air temperature is warm\")"
   ]
  },
  {
   "cell_type": "markdown",
   "metadata": {},
   "source": [
    "To also add in an else condition we can do:\n",
    "\n",
    "### Code example 2"
   ]
  },
  {
   "cell_type": "code",
   "execution_count": null,
   "metadata": {},
   "outputs": [],
   "source": [
    "temperature = int(input('Please enter a temperature between 0 and 30'))\n",
    "\n",
    "if temperature >= 20:\n",
    "    print(\"The air temperature is warm\")\n",
    "else:\n",
    "    print(\"The air temperture is cool\")"
   ]
  }
 ],
 "metadata": {
  "kernelspec": {
   "display_name": "Python 3",
   "language": "python",
   "name": "python3"
  },
  "language_info": {
   "codemirror_mode": {
    "name": "ipython",
    "version": 3
   },
   "file_extension": ".py",
   "mimetype": "text/x-python",
   "name": "python",
   "nbconvert_exporter": "python",
   "pygments_lexer": "ipython3",
   "version": "3.8.5"
  }
 },
 "nbformat": 4,
 "nbformat_minor": 4
}
