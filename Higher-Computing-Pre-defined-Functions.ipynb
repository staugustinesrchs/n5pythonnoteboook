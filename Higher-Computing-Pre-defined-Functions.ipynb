{
 "cells": [
  {
   "cell_type": "markdown",
   "metadata": {},
   "source": [
    "# Pre-defined Functions (N5)\n",
    "\n",
    "Python uses"
   ]
  },
  {
   "cell_type": "markdown",
   "metadata": {},
   "source": [
    "## Len\n",
    "\n",
    "The len() function will return the length of a string or list that is passed to it."
   ]
  },
  {
   "cell_type": "markdown",
   "metadata": {},
   "source": [
    "### Using len() to get the length of a string"
   ]
  },
  {
   "cell_type": "code",
   "execution_count": 96,
   "metadata": {},
   "outputs": [
    {
     "name": "stdout",
     "output_type": "stream",
     "text": [
      "The length of the string is 16 characters.\n"
     ]
    }
   ],
   "source": [
    "length_of_string = len(\"Higher Computing\")\n",
    "print(\"The length of the string is\", length_of_string, \"characters.\")"
   ]
  },
  {
   "cell_type": "markdown",
   "metadata": {},
   "source": [
    "### Using len() to get the length of a list"
   ]
  },
  {
   "cell_type": "code",
   "execution_count": 97,
   "metadata": {},
   "outputs": [
    {
     "name": "stdout",
     "output_type": "stream",
     "text": [
      "The number of pupils in the class is 3 .\n"
     ]
    }
   ],
   "source": [
    "pupils_in_class = [\"Emma\", \"Rory\", \"Esme\"]\n",
    "number_of_pupils_in_class = len(pupils_in_class)\n",
    "print(\"The number of pupils in the class is\", number_of_pupils_in_class, \".\")"
   ]
  },
  {
   "cell_type": "markdown",
   "metadata": {},
   "source": [
    "### Note: Strings are lists\n",
    "\n",
    "In Python, strings are really just lists of characters. We can access individual parts of a string in the same way we do a list."
   ]
  },
  {
   "cell_type": "code",
   "execution_count": 98,
   "metadata": {},
   "outputs": [
    {
     "name": "stdout",
     "output_type": "stream",
     "text": [
      "The fourth character in the school name is A\n"
     ]
    }
   ],
   "source": [
    "school_name = \"St Augustine's RC High School\"\n",
    "print(\"The fourth character in the school name is\", school_name[3])"
   ]
  },
  {
   "cell_type": "markdown",
   "metadata": {},
   "source": [
    "## Generating random numbers\n",
    "\n",
    "If we want to generate a random number (integer) in Python we use the __randint()__ function. However, this function needs to be imported from a library called __random__. Any program you write that needs to use __randint()__ needs to include the following line (usually as one of the first lines of code)."
   ]
  },
  {
   "cell_type": "code",
   "execution_count": 99,
   "metadata": {},
   "outputs": [],
   "source": [
    "from random import randint"
   ]
  },
  {
   "cell_type": "markdown",
   "metadata": {},
   "source": [
    "Randint() takes two arguments, the lowest possible random number and the highest possible random number."
   ]
  },
  {
   "cell_type": "code",
   "execution_count": 100,
   "metadata": {},
   "outputs": [
    {
     "name": "stdout",
     "output_type": "stream",
     "text": [
      "The lucky number is 9\n"
     ]
    }
   ],
   "source": [
    "from random import randint\n",
    "lucky_number = randint(1,10)\n",
    "print(\"The lucky number is\", lucky_number)"
   ]
  },
  {
   "cell_type": "markdown",
   "metadata": {},
   "source": [
    "__Activity__: run the code above a few times to see the range of random numbers."
   ]
  },
  {
   "cell_type": "markdown",
   "metadata": {},
   "source": [
    "## Rounding numbers\n",
    "\n",
    "The __round()__ function will round floating (real) numbers. This function can be used in different ways, however for our tasks there is a specific way that we should use."
   ]
  },
  {
   "cell_type": "code",
   "execution_count": 101,
   "metadata": {},
   "outputs": [
    {
     "name": "stdout",
     "output_type": "stream",
     "text": [
      "Rounded 1 = 30\n",
      "Rounded 2 = 30.0\n",
      "Rounded 3 = 29.7\n"
     ]
    }
   ],
   "source": [
    "average_speed = 29.73\n",
    "rounded1 = round(average_speed)\n",
    "rounded2 = round(average_speed, 0)\n",
    "rounded3 = round(average_speed, 1)\n",
    "print(\"Rounded 1 =\", rounded1)\n",
    "print(\"Rounded 2 =\", rounded2)\n",
    "print(\"Rounded 3 =\", rounded3)"
   ]
  },
  {
   "cell_type": "markdown",
   "metadata": {},
   "source": [
    "It's important to understand the difference between the values of __rounded1__ and __rounded2__. When round() is given the number of decimal places it should round to, it will return an integer value. When round() is given the number of decimal places it should round to then it will return a floating number.\n",
    "\n",
    "If need to display the number without any decimal point then use round() without giving the number of decimal places. Or use __int()__ on the returned value. E.g."
   ]
  },
  {
   "cell_type": "code",
   "execution_count": 102,
   "metadata": {},
   "outputs": [
    {
     "name": "stdout",
     "output_type": "stream",
     "text": [
      "The rounded speed is 30\n"
     ]
    }
   ],
   "source": [
    "average_speed = 29.73\n",
    "rounded_speed = round(average_speed, 0)\n",
    "print(\"The rounded speed is\", int(rounded_speed))"
   ]
  }
 ],
 "metadata": {
  "kernelspec": {
   "display_name": "Python 3",
   "language": "python",
   "name": "python3"
  },
  "language_info": {
   "codemirror_mode": {
    "name": "ipython",
    "version": 3
   },
   "file_extension": ".py",
   "mimetype": "text/x-python",
   "name": "python",
   "nbconvert_exporter": "python",
   "pygments_lexer": "ipython3",
   "version": "3.8.5"
  }
 },
 "nbformat": 4,
 "nbformat_minor": 2
}
