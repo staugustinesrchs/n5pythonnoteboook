{
 "cells": [
  {
   "cell_type": "markdown",
   "metadata": {},
   "source": [
    "# Assignments\n",
    "\n",
    "Assignments in Python use the __=__ operator and are in the form:\n",
    "\n",
    "variable = expression\n",
    "\n",
    "e.g. to assign the value 5 to the variable my_number:"
   ]
  },
  {
   "cell_type": "markdown",
   "metadata": {},
   "source": [
    "### Code example 1"
   ]
  },
  {
   "cell_type": "code",
   "execution_count": null,
   "metadata": {},
   "outputs": [],
   "source": [
    "my_number = 5\n",
    "print(my_number)"
   ]
  },
  {
   "cell_type": "markdown",
   "metadata": {},
   "source": [
    "### Code example 2\n",
    "You can assign the result of an expression to a variable."
   ]
  },
  {
   "cell_type": "code",
   "execution_count": null,
   "metadata": {},
   "outputs": [],
   "source": [
    "number_1 = 20\n",
    "number_2 = 7\n",
    "total = number_1 + number_2\n",
    "print(\"The total is\", total)"
   ]
  },
  {
   "cell_type": "markdown",
   "metadata": {},
   "source": [
    "TRY: __Edit the code above__ so that __number_1__ and __number_2__ have different values and the __sum__ of the numbers is calculated rather than the total."
   ]
  },
  {
   "cell_type": "markdown",
   "metadata": {},
   "source": [
    "### Code example 3\n",
    "Variables can be assigned different types."
   ]
  },
  {
   "cell_type": "code",
   "execution_count": null,
   "metadata": {},
   "outputs": [],
   "source": [
    "my_message = \"Happy Birthday to Me\"\n",
    "team_score = 19\n",
    "test_average = 29.12\n",
    "had_vaccination = False"
   ]
  },
  {
   "cell_type": "markdown",
   "metadata": {},
   "source": [
    "### Code example 4\n",
    "You'll have seen from the examples above, the use of the __print__ function. The print function takes a number of parameters and these can be strings and variables.\n",
    "\n",
    "The parameters are separated by a comman and when the output is display, the commas are replaced with spaces."
   ]
  },
  {
   "cell_type": "code",
   "execution_count": null,
   "metadata": {},
   "outputs": [],
   "source": [
    "team_score = 19\n",
    "print(\"The team's score was\", team_score)"
   ]
  }
 ],
 "metadata": {
  "kernelspec": {
   "display_name": "Python 3",
   "language": "python",
   "name": "python3"
  },
  "language_info": {
   "codemirror_mode": {
    "name": "ipython",
    "version": 3
   },
   "file_extension": ".py",
   "mimetype": "text/x-python",
   "name": "python",
   "nbconvert_exporter": "python",
   "pygments_lexer": "ipython3",
   "version": "3.8.5"
  }
 },
 "nbformat": 4,
 "nbformat_minor": 2
}
